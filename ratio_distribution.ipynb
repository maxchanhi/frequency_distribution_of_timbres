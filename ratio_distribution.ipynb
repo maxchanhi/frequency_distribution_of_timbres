{
  "nbformat": 4,
  "nbformat_minor": 0,
  "metadata": {
    "colab": {
      "provenance": [],
      "mount_file_id": "1zf9SLmUAilhL3wEtXueW-OsbFyKogZIn",
      "authorship_tag": "ABX9TyOll6huhm4kFT36Bg3L7rCh",
      "include_colab_link": true
    },
    "kernelspec": {
      "name": "python3",
      "display_name": "Python 3"
    },
    "language_info": {
      "name": "python"
    }
  },
  "cells": [
    {
      "cell_type": "markdown",
      "metadata": {
        "id": "view-in-github",
        "colab_type": "text"
      },
      "source": [
        "<a href=\"https://colab.research.google.com/github/maxchanhi/frequency_distribution_of_timbres/blob/main/ratio_distribution.ipynb\" target=\"_parent\"><img src=\"https://colab.research.google.com/assets/colab-badge.svg\" alt=\"Open In Colab\"/></a>"
      ]
    },
    {
      "cell_type": "code",
      "execution_count": null,
      "metadata": {
        "id": "aYywnG_jigB3"
      },
      "outputs": [],
      "source": [
        "import pandas as pd"
      ]
    },
    {
      "cell_type": "code",
      "source": [
        "path = \"/content/drive/MyDrive/Research data/5 ET temperament calculator - ratiov4.csv\"\n",
        "df=pd.read_csv(path)\n",
        "# Define the column to read, 0 is gamelan, 1 is synth.\n",
        "data_list = df[df.columns[2]].values.tolist()\n",
        "range = [1,8.1] # Define the range of the ratio. Suggest 1.5. \n",
        "# According to Plomp & Levelt, for a pair of sine waves above 200Hz, the ratio above 1.5 sounds seperated into two tones.\n",
        "\n",
        "d = 36 # Define the bin size of each class in the histogram\n",
        "celling_gp = (range[1]-range[0])/d\n",
        "gp_range = []\n",
        "gp_range_mid_pt = []\n",
        "\n",
        "# The class width\n",
        "i = 0\n",
        "while i < d:\n",
        "  class_celling = (celling_gp)*(i+1)+1\n",
        "  class_floor= (celling_gp)*i+1\n",
        "  gp_range.append(class_floor)\n",
        "  if i == d-1:  \n",
        "    gp_range.append(class_celling)\n",
        "  i += 1\n",
        "# Calculate the midpoint for each interval\n",
        "i = 0\n",
        "while i < len(gp_range)-1:\n",
        "    lower_bound = gp_range[i]\n",
        "    upper_bound = gp_range[i + 1]\n",
        "    midpoint = (lower_bound + upper_bound) / 2\n",
        "    gp_range_mid_pt.append(midpoint)\n",
        "    i += 1\n",
        "print(gp_range_mid_pt)\n",
        "fit_count = []\n",
        "for  g, (lower_bound, upper_bound) in enumerate(zip(gp_range, gp_range[1:])):\n",
        "    # Initialize a tally for the current interval\n",
        "    tally = 0\n",
        "    # Iterate over the values in data_list\n",
        "    for value in data_list:\n",
        "        # If the value falls within the current interval, increment the tally\n",
        "        if lower_bound <= value < upper_bound:\n",
        "            tally += 1\n",
        "    # Append the tally to the fit_count list\n",
        "    fit_count.append(tally)\n",
        "print(fit_count)\n"
      ],
      "metadata": {
        "colab": {
          "base_uri": "https://localhost:8080/"
        },
        "outputId": "11bd7d79-b28d-4720-ca71-70faebc8afc3",
        "id": "jioQdszfF7gR"
      },
      "execution_count": null,
      "outputs": [
        {
          "output_type": "stream",
          "name": "stdout",
          "text": [
            "[1.098611111111111, 1.2958333333333334, 1.4930555555555556, 1.6902777777777778, 1.8875, 2.084722222222222, 2.2819444444444446, 2.4791666666666665, 2.676388888888889, 2.873611111111111, 3.0708333333333333, 3.2680555555555557, 3.4652777777777777, 3.6624999999999996, 3.859722222222222, 4.056944444444444, 4.254166666666666, 4.451388888888889, 4.64861111111111, 4.845833333333333, 5.043055555555556, 5.240277777777777, 5.4375, 5.634722222222222, 5.831944444444444, 6.029166666666667, 6.226388888888889, 6.423611111111111, 6.620833333333334, 6.818055555555555, 7.0152777777777775, 7.2125, 7.409722222222221, 7.606944444444444, 7.804166666666667, 8.001388888888888]\n",
            "[1.0, 1.1972222222222222, 1.3944444444444444, 1.5916666666666668, 1.7888888888888888, 1.9861111111111112, 2.1833333333333336, 2.3805555555555555, 2.5777777777777775, 2.775, 2.9722222222222223, 3.1694444444444443, 3.3666666666666667, 3.5638888888888887, 3.761111111111111, 3.958333333333333, 4.155555555555555, 4.352777777777778, 4.55, 4.747222222222222, 4.944444444444445, 5.141666666666667, 5.338888888888889, 5.5361111111111105, 5.733333333333333, 5.930555555555555, 6.127777777777777, 6.325, 6.522222222222222, 6.719444444444444, 6.916666666666666, 7.113888888888889, 7.311111111111111, 7.508333333333333, 7.705555555555556, 7.902777777777778, 8.1]\n",
            "[0, 3, 8, 3, 2, 15, 7, 2, 7, 12, 20, 0, 1, 0, 0, 5, 0, 4, 3, 7, 13, 5, 6, 4, 1, 3, 0, 0, 0, 0, 2, 0, 0, 2, 1, 1]\n"
          ]
        }
      ]
    },
    {
      "cell_type": "code",
      "source": [
        "i=1\n",
        "modes = []\n",
        "while i < len(fit_count)-1:\n",
        "  cap_l= gp_range[i]\n",
        "  l = fit_count[i]-fit_count[i-1]\n",
        "  if l < 0:\n",
        "    l*-1\n",
        "  u = fit_count[i]-fit_count[i+1]\n",
        "  if u < 0:\n",
        "    u*-1\n",
        "  c = (range[1]-range[0])/d\n",
        "  if l+u == 0:\n",
        "      modes.append(0)\n",
        "      i += 1  \n",
        "  else:\n",
        "      modes.append(cap_l+(l/(l+u)*c))\n",
        "      i += 1\n",
        "print(modes)"
      ],
      "metadata": {
        "colab": {
          "base_uri": "https://localhost:8080/"
        },
        "id": "CNj8nhqUj2RG",
        "outputId": "ad7260bc-d496-4e66-9eff-72b47c0201a8"
      },
      "execution_count": null,
      "outputs": [
        {
          "output_type": "stream",
          "name": "stdout",
          "text": [
            "[0.9013888888888888, 1.4930555555555556, 1.8381944444444445, 1.8029761904761903, 2.1082010582010584, 2.7092592592592597, 2.4791666666666665, 0, 2.446296296296296, 3.0285714285714285, 3.357275132275132, 3.4652777777777777, 3.761111111111111, 3.761111111111111, 4.0569444444444445, 4.265123456790123, 4.510555555555555, 4.589444444444444, 4.352777777777777, 5.028968253968254, 5.316975308641975, 5.404629629629629, 5.141666666666666, 5.851666666666667, 6.009444444444444, 6.324999999999999, 0, 0, 6.719444444444444, 7.0152777777777775, 7.311111111111111, 7.311111111111111, 7.639814814814814, 7.902777777777778]\n"
          ]
        }
      ]
    },
    {
      "cell_type": "code",
      "source": [
        "path = \"/content/drive/MyDrive/Research data/5 ET temperament calculator - ratiov4.csv\"\n",
        "df=pd.read_csv(path)\n",
        "#df = pd.DataFrame()\n",
        "data_list = df[df.columns[2]].values.tolist()\n",
        "\n",
        "range = [1,3.18]\n",
        "d = 12*6\n",
        "celling_gp = (range[1]-range[0])/d\n",
        "gp_range = []\n",
        "gp_range_mid_pt = []\n",
        "\n",
        "i = 0\n",
        "while i < d:\n",
        "  class_celling = (celling_gp)*(i+1)+1\n",
        "  class_floor= (celling_gp)*i+1\n",
        "  gp_range.append(class_floor)\n",
        "  #gp_range.append(class_celling)\n",
        "  i += 1\n",
        "# Calculate the midpoint for each interval\n",
        "i = 0\n",
        "while i < len(gp_range) - 1:\n",
        "    lower_bound = gp_range[i]\n",
        "    upper_bound = gp_range[i + 1]\n",
        "    midpoint = (lower_bound + upper_bound) / 2\n",
        "    gp_range_mid_pt.append(midpoint)\n",
        "    i += 1\n",
        "print(gp_range_mid_pt)\n",
        "fit_count = []\n",
        "tally_marks = []\n",
        "i = 0\n",
        "g = 0\n",
        "while g < len(gp_range)-1:\n",
        "  while i < len(data_list):      \n",
        "    if data_list[i] > gp_range[g] and data_list[i] <= gp_range[g+1]:\n",
        "      tally_marks.append(\"T\")\n",
        "    else:\n",
        "      pass\n",
        "    i += 1\n",
        "  fit_count.append(len(tally_marks))\n",
        "  tally_marks  = []\n",
        "  g += 1\n",
        "  i = 0\n",
        "print(fit_count)\n"
      ],
      "metadata": {
        "id": "CJw2ktsOikcW"
      },
      "execution_count": null,
      "outputs": []
    },
    {
      "cell_type": "code",
      "source": [],
      "metadata": {
        "id": "HibkkrxzRMdG"
      },
      "execution_count": null,
      "outputs": []
    }
  ]
}